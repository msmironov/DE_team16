{
 "cells": [
  {
   "cell_type": "code",
   "execution_count": 15,
   "id": "8ceaf464-543c-4c2d-a733-817621aadbd5",
   "metadata": {},
   "outputs": [
    {
     "name": "stdout",
     "output_type": "stream",
     "text": [
      "root\n",
      " |-- id: string (nullable = true)\n",
      " |-- title: string (nullable = true)\n",
      " |-- type: string (nullable = true)\n",
      " |-- genres: string (nullable = true)\n",
      " |-- averageRating: string (nullable = true)\n",
      " |-- numVotes: string (nullable = true)\n",
      " |-- releaseYear: string (nullable = true)\n",
      "\n"
     ]
    }
   ],
   "source": [
    "from pyspark.sql import SparkSession\n",
    "from pyspark import SparkConf\n",
    "\n",
    "sparkConf = SparkConf()\n",
    "sparkConf.setMaster(\"spark://spark-master:7077\")\n",
    "sparkConf.setAppName(\"Assignment 2 Batch Pipeline\")\n",
    "sparkConf.set(\"spark.driver.memory\", \"2g\")\n",
    "sparkConf.set(\"spark.executor.cores\", \"1\")\n",
    "sparkConf.set(\"spark.driver.cores\", \"1\")\n",
    "# create the spark session, which is the entry point to Spark SQL engine.\n",
    "spark = SparkSession.builder.config(conf=sparkConf).getOrCreate()\n",
    "\n",
    "# Setup hadoop fs configuration for schema gs://\n",
    "conf = spark.sparkContext._jsc.hadoopConfiguration()\n",
    "conf.set(\"fs.gs.impl\", \"com.google.cloud.hadoop.fs.gcs.GoogleHadoopFileSystem\")\n",
    "conf.set(\"fs.AbstractFileSystem.gs.impl\", \"com.google.cloud.hadoop.fs.gcs.GoogleHadoopFS\")\n",
    "\n",
    "#  Google Storage File Path\n",
    "gsc_file_path = 'gs://de_2024_574440/data/data.csv'  \n",
    "# Create data frame\n",
    "df = spark.read.format(\"csv\").option(\"header\", \"true\") \\\n",
    "       .load(gsc_file_path)\n",
    "\n",
    "df.printSchema()\n",
    "\n"
   ]
  },
  {
   "cell_type": "code",
   "execution_count": 16,
   "id": "a05f6391-2167-4959-9a83-d3050d8c13bf",
   "metadata": {},
   "outputs": [],
   "source": [
    "from pyspark.sql.functions import col, countDistinct\n",
    "\n",
    "#Select only rows with movies or TvSeries\n",
    "df = df.where((df.type==\"movie\") | (df.type==\"tvSeries\"))"
   ]
  },
  {
   "cell_type": "code",
   "execution_count": 17,
   "id": "aeb6ad29-092a-4b2d-9433-e0976630793a",
   "metadata": {},
   "outputs": [
    {
     "name": "stdout",
     "output_type": "stream",
     "text": [
      "+---------+--------------------+-----+-------------+--------+-----------+-----------+\n",
      "|       id|               title| type|averageRating|numVotes|releaseYear|  one_genre|\n",
      "+---------+--------------------+-----+-------------+--------+-----------+-----------+\n",
      "|tt0000009|          Miss Jerry|movie|          5.4|     215|       1894|    Romance|\n",
      "|tt0000147|The Corbett-Fitzs...|movie|          5.2|     539|       1897|Documentary|\n",
      "|tt0000574|The Story of the ...|movie|          6.0|     941|       1906|     Action|\n",
      "|tt0000591|    The Prodigal Son|movie|          5.7|      28|       1907|      Drama|\n",
      "|tt0000615|  Robbery Under Arms|movie|          4.3|      27|       1907|      Drama|\n",
      "|tt0000630|              Hamlet|movie|          3.1|      30|       1908|      Drama|\n",
      "|tt0000675|         Don Quijote|movie|          4.2|      22|       1908|      Drama|\n",
      "|tt0000679|The Fairylogue an...|movie|          5.2|      78|       1908|  Adventure|\n",
      "|tt0000886|Hamlet, Prince of...|movie|          4.7|      40|       1910|      Drama|\n",
      "|tt0000941|      Locura de amor|movie|          4.6|      29|       1909|      Drama|\n",
      "|tt0001028|          Salome Mad|movie|          3.8|      22|       1909|     Comedy|\n",
      "|tt0001049|      Gøngehøvdingen|movie|          4.2|      19|       1909|      Drama|\n",
      "|tt0001112|              Hamlet|movie|          3.9|      49|       1910|      Drama|\n",
      "|tt0001115|       Ansigttyven I|movie|          4.3|      20|       1910|      Crime|\n",
      "|tt0001175|             Camille|movie|          5.3|      44|       1912|      Drama|\n",
      "|tt0001184|Don Juan de Serra...|movie|          3.8|      22|       1910|  Adventure|\n",
      "|tt0001240|              Hamlet|movie|          3.8|      22|       1911|      Drama|\n",
      "|tt0001277|         Kapergasten|movie|          4.3|      26|       1910|      Drama|\n",
      "|tt0001285|   The Life of Moses|movie|          5.5|      63|       1909|  Biography|\n",
      "|tt0001338|      A Night in May|movie|          5.2|      18|       1910|      Drama|\n",
      "+---------+--------------------+-----+-------------+--------+-----------+-----------+\n",
      "only showing top 20 rows\n",
      "\n"
     ]
    }
   ],
   "source": [
    "from pyspark.sql.functions import split\n",
    "\n",
    "#remove rows with null values for key columns\n",
    "df = df.filter(df.averageRating != 'NULL') \\\n",
    "     .filter(df.genres != 'NULL') \\\n",
    "     .filter(df.releaseYear != 'NULL')\n",
    "\n",
    "#transform strings into float and int\n",
    "df = df.withColumn(\"averageRating\", col(\"averageRating\").cast(\"float\")) \\\n",
    "    .withColumn(\"releaseYear\", col(\"releaseYear\").cast(\"integer\")) \\\n",
    "    .withColumn(\"numVotes\", col(\"numVotes\").cast(\"integer\"))\n",
    "\n",
    "\n",
    "#Clean genres, so that only the main genre is available per row\n",
    "df = df.withColumn(\"genre_t\", split(df.genres, ', ')).drop(\"genres\") \\\n",
    "     .withColumn(\"one_genre\", col(\"genre_t\").getItem(0)).drop(\"genre_t\")\n",
    "\n",
    "#Display the table\n",
    "df.show()\n",
    "              "
   ]
  },
  {
   "cell_type": "code",
   "execution_count": 18,
   "id": "59d8c858-2190-41de-a615-412198f5a508",
   "metadata": {},
   "outputs": [
    {
     "name": "stdout",
     "output_type": "stream",
     "text": [
      "+----------+--------------------+--------+-------------+--------+-----------+---------+----------+\n",
      "|        id|               title|    type|averageRating|numVotes|releaseYear|one_genre|rank_genre|\n",
      "+----------+--------------------+--------+-------------+--------+-----------+---------+----------+\n",
      "| tt7156934|   Independent Roads|   movie|          9.9|      10|       2012|Adventure|         1|\n",
      "| tt1053817|    Buried in Tucson|   movie|          9.8|      15|       2007|Adventure|         2|\n",
      "| tt8114896|               Parto|   movie|          9.8|      85|       2010|Adventure|         3|\n",
      "| tt1419921| Flying Over Everest|   movie|          9.7|      12|       2004|Adventure|         4|\n",
      "|tt24224080|Jendela Seribu Su...|   movie|          9.7|      92|       2023|Adventure|         5|\n",
      "|tt24228604|          OdBita Pot|tvSeries|          9.7|     874|       2022|Adventure|         6|\n",
      "|tt33083593|        Vikaasaparva|   movie|          9.7|     505|       2024|Adventure|         7|\n",
      "| tt9824856|  Avalakki Pavalakki|   movie|          9.7|      20|       2023|Adventure|         8|\n",
      "|tt11378676|Bilbo and the Leg...|   movie|          9.6|       5|       2022|Adventure|         9|\n",
      "|tt13385026|Sehnsucht nach ei...|   movie|          9.6|      17|       2021|Adventure|        10|\n",
      "|tt15510976|A Filha Do Govern...|   movie|          9.6|       7|       2016|Adventure|        11|\n",
      "|tt21091528|Prince Oak Oakley...|   movie|          9.6|      56|       2022|Adventure|        12|\n",
      "|tt27262998|Drifting in the W...|   movie|          9.6|      37|       2023|Adventure|        13|\n",
      "| tt7472202|The Other End of ...|   movie|          9.6|       9|       2018|Adventure|        14|\n",
      "|tt12043078|     Illegal Freedom|tvSeries|          9.5|      44|       2016|Adventure|        15|\n",
      "|tt13028852|Satu - Year of th...|   movie|          9.5|      27|       2024|Adventure|        16|\n",
      "|tt16270180|Ships of the Nort...|tvSeries|          9.5|      21|       2020|Adventure|        17|\n",
      "|tt16383720|  Minecraft Temporal|tvSeries|          9.5|      15|       2019|Adventure|        18|\n",
      "|tt16530124|            Hawk Map|tvSeries|          9.5|      17|       2016|Adventure|        19|\n",
      "| tt1823239|The Mischievous A...|   movie|          9.5|      24|       2011|Adventure|        20|\n",
      "+----------+--------------------+--------+-------------+--------+-----------+---------+----------+\n",
      "only showing top 20 rows\n",
      "\n"
     ]
    }
   ],
   "source": [
    "from pyspark.sql.functions import rank, row_number, desc\n",
    "from pyspark.sql import Window\n",
    "\n",
    "#Rank by genre \n",
    "\n",
    "window_genre=Window.partitionBy(\"one_genre\").orderBy(desc(\"averageRating\"))\n",
    "\n",
    "df = df.withColumn(\"rank_genre\", row_number().over(window_genre)) \n",
    "\n",
    "df.show()"
   ]
  },
  {
   "cell_type": "code",
   "execution_count": 19,
   "id": "47805f7b-cc7f-4b3b-b0af-b3da4248ede8",
   "metadata": {},
   "outputs": [
    {
     "name": "stdout",
     "output_type": "stream",
     "text": [
      "+---------+--------------------+-----+-------------+--------+-----------+---------+----------+---------------+\n",
      "|       id|               title| type|averageRating|numVotes|releaseYear|one_genre|rank_genre|year_genre_rank|\n",
      "+---------+--------------------+-----+-------------+--------+-----------+---------+----------+---------------+\n",
      "|tt0000679|The Fairylogue an...|movie|          5.2|      78|       1908|Adventure|     13060|              1|\n",
      "|tt0186564|      Sonho de Valsa|movie|          2.4|      24|       1909|Adventure|     16536|              1|\n",
      "|tt0001184|Don Juan de Serra...|movie|          3.8|      22|       1910|Adventure|     15779|              1|\n",
      "|tt0002130|     Dante's Inferno|movie|          7.0|    3662|       1911|Adventure|      4691|              1|\n",
      "|tt0293219|Harry the Footballer|movie|          4.3|      33|       1911|Adventure|     15287|              2|\n",
      "|tt0342837|Nankyoku tanken k...|movie|          6.8|      15|       1912|Adventure|      5837|              1|\n",
      "|tt0339218|                Jess|movie|          5.7|      32|       1912|Adventure|     11218|              2|\n",
      "|tt0231604|   For a Baby's Sake|movie|          5.0|      18|       1912|Adventure|     13789|              3|\n",
      "|tt0208154|La fin d'une révo...|movie|          4.8|      18|       1912|Adventure|     14318|              4|\n",
      "|tt0434033|The Heir of the L...|movie|          6.8|      17|       1913|Adventure|      5863|              1|\n",
      "|tt0310692|The Extraordinary...|movie|          6.3|     222|       1913|Adventure|      8334|              2|\n",
      "|tt0003489|The Last Days of ...|movie|          6.1|     634|       1913|Adventure|      9119|              3|\n",
      "|tt0003301|The Prisoner of Z...|movie|          6.0|      51|       1913|Adventure|      9586|              4|\n",
      "|tt0207409|Dick Whittington ...|movie|          5.8|      46|       1913|Adventure|     10707|              5|\n",
      "|tt0383932|        Das Blutgeld|movie|          5.7|      15|       1913|Adventure|     11229|              6|\n",
      "|tt0002605|The Adventures of...|movie|          5.6|      45|       1913|Adventure|     11420|              7|\n",
      "|tt0003022|             Ivanhoe|movie|          5.6|      98|       1913|Adventure|     11421|              8|\n",
      "|tt0003337|          Robin Hood|movie|          5.5|      57|       1913|Adventure|     11856|              9|\n",
      "|tt2127294|In the Smuggler's...|movie|          5.2|      17|       1913|Adventure|     13336|             10|\n",
      "|tt0191220|        Juan Moreira|movie|          4.5|      17|       1913|Adventure|     14948|             11|\n",
      "+---------+--------------------+-----+-------------+--------+-----------+---------+----------+---------------+\n",
      "only showing top 20 rows\n",
      "\n"
     ]
    }
   ],
   "source": [
    "#Rank by both genre and year\n",
    "\n",
    "window=Window.partitionBy(\"one_genre\", \"releaseYear\").orderBy(desc(\"averageRating\"))\n",
    "\n",
    "df = df.withColumn(\"year_genre_rank\", row_number().over(window)) \n",
    "\n",
    "df.show()"
   ]
  },
  {
   "cell_type": "code",
   "execution_count": 20,
   "id": "e2d228b3-e4e7-4623-90ea-4d92e74ec9cd",
   "metadata": {},
   "outputs": [],
   "source": [
    "# Use the Cloud Storage bucket for temporary BigQuery export data the connector uses.\n",
    "bucket = \"gs://de_2024_574440/temp_de2024\"\n",
    "spark.conf.set('temporaryGcsBucket', bucket)\n",
    "\n",
    "df.write.format('bigquery') \\\n",
    "  .option('table', 'still-entity-435508-a1.Movies.IMDB_Comprehensive') \\\n",
    "  .mode(\"overwrite\") \\\n",
    "  .save()"
   ]
  },
  {
   "cell_type": "code",
   "execution_count": null,
   "id": "65a2fb15-2022-46d0-9367-387598f16bda",
   "metadata": {},
   "outputs": [],
   "source": []
  }
 ],
 "metadata": {
  "kernelspec": {
   "display_name": "Python 3 (ipykernel)",
   "language": "python",
   "name": "python3"
  },
  "language_info": {
   "codemirror_mode": {
    "name": "ipython",
    "version": 3
   },
   "file_extension": ".py",
   "mimetype": "text/x-python",
   "name": "python",
   "nbconvert_exporter": "python",
   "pygments_lexer": "ipython3",
   "version": "3.11.6"
  }
 },
 "nbformat": 4,
 "nbformat_minor": 5
}
