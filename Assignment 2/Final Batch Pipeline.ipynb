{
 "cells": [
  {
   "cell_type": "code",
   "execution_count": 25,
   "id": "8ceaf464-543c-4c2d-a733-817621aadbd5",
   "metadata": {},
   "outputs": [
    {
     "name": "stdout",
     "output_type": "stream",
     "text": [
      "root\n",
      " |-- id: string (nullable = true)\n",
      " |-- title: string (nullable = true)\n",
      " |-- type: string (nullable = true)\n",
      " |-- genres: string (nullable = true)\n",
      " |-- averageRating: string (nullable = true)\n",
      " |-- numVotes: string (nullable = true)\n",
      " |-- releaseYear: string (nullable = true)\n",
      "\n"
     ]
    }
   ],
   "source": [
    "from pyspark.sql import SparkSession\n",
    "from pyspark import SparkConf\n",
    "\n",
    "sparkConf = SparkConf()\n",
    "sparkConf.setMaster(\"spark://spark-master:7077\")\n",
    "sparkConf.setAppName(\"Assignment 2 Batch Pipeline\")\n",
    "sparkConf.set(\"spark.driver.memory\", \"2g\")\n",
    "sparkConf.set(\"spark.executor.cores\", \"1\")\n",
    "sparkConf.set(\"spark.driver.cores\", \"1\")\n",
    "# create the spark session, which is the entry point to Spark SQL engine.\n",
    "spark = SparkSession.builder.config(conf=sparkConf).getOrCreate()\n",
    "\n",
    "# Setup hadoop fs configuration for schema gs://\n",
    "conf = spark.sparkContext._jsc.hadoopConfiguration()\n",
    "conf.set(\"fs.gs.impl\", \"com.google.cloud.hadoop.fs.gcs.GoogleHadoopFileSystem\")\n",
    "conf.set(\"fs.AbstractFileSystem.gs.impl\", \"com.google.cloud.hadoop.fs.gcs.GoogleHadoopFS\")\n",
    "\n",
    "#  Google Storage File Path\n",
    "gsc_file_path = 'gs://de_2024_574440/data/data.csv'  \n",
    "# Create data frame\n",
    "df = spark.read.format(\"csv\").option(\"header\", \"true\") \\\n",
    "       .load(gsc_file_path)\n",
    "\n",
    "df.printSchema()\n",
    "\n"
   ]
  },
  {
   "cell_type": "code",
   "execution_count": 26,
   "id": "a05f6391-2167-4959-9a83-d3050d8c13bf",
   "metadata": {},
   "outputs": [],
   "source": [
    "from pyspark.sql.functions import col, countDistinct\n",
    "\n",
    "#Select only rows with movies or TvSeries\n",
    "df = df.where((df.type==\"movie\") | (df.type==\"tvSeries\"))"
   ]
  },
  {
   "cell_type": "code",
   "execution_count": 27,
   "id": "aeb6ad29-092a-4b2d-9433-e0976630793a",
   "metadata": {},
   "outputs": [
    {
     "name": "stdout",
     "output_type": "stream",
     "text": [
      "+----------+--------------------+--------+-------------+--------+-----------+-----------+\n",
      "|        id|               title|    type|averageRating|numVotes|releaseYear|  one_genre|\n",
      "+----------+--------------------+--------+-------------+--------+-----------+-----------+\n",
      "| tt0096167|Stars in Broad Da...|   movie|          7.1|      98|       2024|      Drama|\n",
      "| tt0162252|    Come the Morning|   movie|          6.0|     155|       2024|      Drama|\n",
      "| tt0202523|  The Perfect Shadow|   movie|          8.9|      11|       2024|      Drama|\n",
      "| tt0254777|   Seevalaperi Pandi|   movie|          6.9|      59|       2024|     Action|\n",
      "| tt0287075|    Universal Groove|   movie|          5.5|     165|       2024|      Drama|\n",
      "| tt0327785|   The Killer's Game|   movie|          5.7|    8273|       2024|     Action|\n",
      "| tt0368133|The Promise of Pe...|   movie|          6.6|       8|       2024|Documentary|\n",
      "| tt0375008|              Remedy|   movie|          4.1|     253|       2024|      Crime|\n",
      "| tt0829422|     Family Business|   movie|          8.3|      16|       2024|     Comedy|\n",
      "| tt0875612|Rain Falls from E...|   movie|          7.1|      10|       2024|Documentary|\n",
      "|tt10009608|Maybe It's True W...|   movie|          6.6|      51|       2024|      Drama|\n",
      "|tt10011518|        The Darkness|tvSeries|          6.2|     389|       2024|    Mystery|\n",
      "|tt10023266|       The Dog Thief|   movie|          7.6|      61|       2024|      Drama|\n",
      "|tt10044632|           The Probe|   movie|          7.8|      12|       2024|      Drama|\n",
      "|tt10065936|Fear and Love: Th...|   movie|          8.6|      16|       2024|Documentary|\n",
      "|tt10071550|Amityville: Where...|   movie|          1.5|     182|       2024|     Horror|\n",
      "|tt10074330|          The Trades|tvSeries|          6.3|     700|       2024|     Comedy|\n",
      "|tt10078772|         Flight Risk|   movie|          7.9|     103|       2024|     Action|\n",
      "|tt10079652|  Art of Eight Limbs|   movie|          3.8|     265|       2024|     Action|\n",
      "|tt10080110|      Lady Scorpions|   movie|          3.7|     321|       2024|     Action|\n",
      "+----------+--------------------+--------+-------------+--------+-----------+-----------+\n",
      "only showing top 20 rows\n",
      "\n"
     ]
    }
   ],
   "source": [
    "from pyspark.sql.functions import split\n",
    "\n",
    "#remove rows with null values for key columns\n",
    "df = df.filter(df.averageRating != 'NULL') \\\n",
    "     .filter(df.genres != 'NULL') \\\n",
    "     .filter(df.releaseYear != 'NULL')\n",
    "\n",
    "#transform strings into float and int\n",
    "df = df.withColumn(\"averageRating\", col(\"averageRating\").cast(\"float\")) \\\n",
    "    .withColumn(\"releaseYear\", col(\"releaseYear\").cast(\"integer\")) \\\n",
    "    .withColumn(\"numVotes\", col(\"numVotes\").cast(\"integer\"))\n",
    "\n",
    "\n",
    "#Clean genres, so that only the main genre is available per row\n",
    "df = df.withColumn(\"genre_t\", split(df.genres, ', ')).drop(\"genres\") \\\n",
    "     .withColumn(\"one_genre\", col(\"genre_t\").getItem(0)).drop(\"genre_t\")\n",
    "\n",
    "#Display the table\n",
    "df.show()\n",
    "              "
   ]
  },
  {
   "cell_type": "code",
   "execution_count": 33,
   "id": "47805f7b-cc7f-4b3b-b0af-b3da4248ede8",
   "metadata": {},
   "outputs": [
    {
     "name": "stdout",
     "output_type": "stream",
     "text": [
      "+----------+--------------------+--------+-------------+--------+-----------+---------+---------+---------------+\n",
      "|        id|               title|    type|averageRating|numVotes|releaseYear|one_genre|year_rank|year_genre_rank|\n",
      "+----------+--------------------+--------+-------------+--------+-----------+---------+---------+---------------+\n",
      "|tt28356500|               Anger|   movie|         10.0|       6|       2024|   Action|        1|              1|\n",
      "|tt26637593|Devaki Nandana Va...|   movie|          9.8|    2172|       2024|   Action|        3|              2|\n",
      "|tt33075815|              Kaveri|   movie|          9.8|    1250|       2024|   Action|        3|              3|\n",
      "|tt33663099|               Guxim|   movie|          9.8|       5|       2024|   Action|        3|              4|\n",
      "|tt10958258|        Marine Drive|   movie|          9.7|      46|       2024|   Action|        4|              5|\n",
      "|tt32395168|         The Visitor|   movie|          7.6|      15|       2024|    Adult|       25|              1|\n",
      "|tt30796547|          D.O.L.L.S.|   movie|          6.3|       7|       2024|    Adult|       38|              2|\n",
      "|tt33083593|        Vikaasaparva|   movie|          9.7|     505|       2024|Adventure|        4|              1|\n",
      "|tt13028852|Satu - Year of th...|   movie|          9.5|      27|       2024|Adventure|        6|              2|\n",
      "|tt32034149|Meie aasta Indone...|tvSeries|          9.5|     104|       2024|Adventure|        6|              3|\n",
      "|tt33042892|             Suchana|   movie|          9.3|     522|       2024|Adventure|        8|              4|\n",
      "|tt34376711|No More Trouble -...|   movie|          9.3|       6|       2024|Adventure|        8|              5|\n",
      "|tt21361900| Eddie's Lil' Homies|tvSeries|          9.3|      22|       2024|Animation|        8|              1|\n",
      "|tt28093628| Common Side Effects|tvSeries|          9.2|      22|       2024|Animation|        9|              2|\n",
      "|tt32134369| Everything Expunged|tvSeries|          9.2|       9|       2024|Animation|        9|              3|\n",
      "|tt33319868|Re: Zero - Starti...|   movie|          9.2|     552|       2024|Animation|        9|              4|\n",
      "| tt9105364|John Vardar vs th...|   movie|          9.2|      54|       2024|Animation|        9|              5|\n",
      "|tt34431038|          87 Candles|   movie|         10.0|       6|       2024|Biography|        1|              1|\n",
      "|tt32094085|  Not Taken: Origins|   movie|          9.8|       5|       2024|Biography|        3|              2|\n",
      "|tt27694684|Saint Nick of Bet...|   movie|          9.6|      40|       2024|Biography|        5|              3|\n",
      "+----------+--------------------+--------+-------------+--------+-----------+---------+---------+---------------+\n",
      "only showing top 20 rows\n",
      "\n"
     ]
    }
   ],
   "source": [
    "from pyspark.sql.functions import rank, row_number\n",
    "\n",
    "#Rank by both genre and year\n",
    "\n",
    "window=Window.partitionBy(\"one_genre\", \"releaseYear\").orderBy(desc(\"averageRating\"))\n",
    "\n",
    "df = df.withColumn(\"year_genre_rank\", row_number().over(window)) \n",
    "\n",
    "df.show()"
   ]
  },
  {
   "cell_type": "code",
   "execution_count": 35,
   "id": "e2d228b3-e4e7-4623-90ea-4d92e74ec9cd",
   "metadata": {},
   "outputs": [],
   "source": [
    "# Use the Cloud Storage bucket for temporary BigQuery export data the connector uses.\n",
    "bucket = \"gs://de_2024_574440/temp_de2024\"\n",
    "spark.conf.set('temporaryGcsBucket', bucket)\n",
    "\n",
    "df.write.format('bigquery') \\\n",
    "  .option('table', 'still-entity-435508-a1.Movies.IMDB_Comprehensive') \\\n",
    "  .mode(\"overwrite\") \\\n",
    "  .save()"
   ]
  }
 ],
 "metadata": {
  "kernelspec": {
   "display_name": "Python 3 (ipykernel)",
   "language": "python",
   "name": "python3"
  },
  "language_info": {
   "codemirror_mode": {
    "name": "ipython",
    "version": 3
   },
   "file_extension": ".py",
   "mimetype": "text/x-python",
   "name": "python",
   "nbconvert_exporter": "python",
   "pygments_lexer": "ipython3",
   "version": "3.11.6"
  }
 },
 "nbformat": 4,
 "nbformat_minor": 5
}
