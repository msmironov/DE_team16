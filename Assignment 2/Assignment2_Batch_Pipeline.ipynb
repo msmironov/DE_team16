{
 "cells": [
  {
   "cell_type": "code",
   "execution_count": 101,
   "id": "8ceaf464-543c-4c2d-a733-817621aadbd5",
   "metadata": {},
   "outputs": [
    {
     "name": "stdout",
     "output_type": "stream",
     "text": [
      "root\n",
      " |-- id: string (nullable = true)\n",
      " |-- title: string (nullable = true)\n",
      " |-- type: string (nullable = true)\n",
      " |-- genres: string (nullable = true)\n",
      " |-- averageRating: string (nullable = true)\n",
      " |-- numVotes: string (nullable = true)\n",
      " |-- releaseYear: string (nullable = true)\n",
      "\n"
     ]
    }
   ],
   "source": [
    "from pyspark.sql import SparkSession\n",
    "from pyspark import SparkConf\n",
    "\n",
    "sparkConf = SparkConf()\n",
    "sparkConf.setMaster(\"spark://spark-master:7077\")\n",
    "sparkConf.setAppName(\"IMDB Batch Pipeline\")\n",
    "sparkConf.set(\"spark.driver.memory\", \"2g\")\n",
    "sparkConf.set(\"spark.executor.cores\", \"1\")\n",
    "sparkConf.set(\"spark.driver.cores\", \"1\")\n",
    "# create the spark session, which is the entry point to Spark SQL engine.\n",
    "spark = SparkSession.builder.config(conf=sparkConf).getOrCreate()\n",
    "\n",
    "# Setup hadoop fs configuration for schema gs://\n",
    "conf = spark.sparkContext._jsc.hadoopConfiguration()\n",
    "conf.set(\"fs.gs.impl\", \"com.google.cloud.hadoop.fs.gcs.GoogleHadoopFileSystem\")\n",
    "conf.set(\"fs.AbstractFileSystem.gs.impl\", \"com.google.cloud.hadoop.fs.gcs.GoogleHadoopFS\")\n",
    "\n",
    "#  Google Storage File Path\n",
    "gsc_file_path = 'gs://de_2024_574440/data/data.csv'  \n",
    "# Create data frame\n",
    "df = spark.read.format(\"csv\").option(\"header\", \"true\") \\\n",
    "       .load(gsc_file_path)\n",
    "df.printSchema()\n",
    "\n"
   ]
  },
  {
   "cell_type": "code",
   "execution_count": 87,
   "id": "a56e863f-7cdb-47b8-a380-052c3e59aa94",
   "metadata": {},
   "outputs": [
    {
     "name": "stdout",
     "output_type": "stream",
     "text": [
      "+---------+--------------------+-----+--------------------+--------+-----------+-------+\n",
      "|       id|               title| type|              genres|numVotes|releaseYear|avg_rat|\n",
      "+---------+--------------------+-----+--------------------+--------+-----------+-------+\n",
      "|tt0000009|          Miss Jerry|movie|             Romance|     215|       1894|    5.4|\n",
      "|tt0000147|The Corbett-Fitzs...|movie|Documentary, News...|     539|       1897|    5.2|\n",
      "|tt0000502|            Bohemios|movie|                NULL|      18|       1905|    4.4|\n",
      "|tt0000574|The Story of the ...|movie|Action, Adventure...|     941|       1906|    6.0|\n",
      "|tt0000591|    The Prodigal Son|movie|               Drama|      28|       1907|    5.7|\n",
      "+---------+--------------------+-----+--------------------+--------+-----------+-------+\n",
      "only showing top 5 rows\n",
      "\n"
     ]
    }
   ],
   "source": [
    "df.show(5)"
   ]
  },
  {
   "cell_type": "code",
   "execution_count": 91,
   "id": "a05f6391-2167-4959-9a83-d3050d8c13bf",
   "metadata": {},
   "outputs": [
    {
     "name": "stdout",
     "output_type": "stream",
     "text": [
      "+------------------+\n",
      "|count(DISTINCT id)|\n",
      "+------------------+\n",
      "|            973121|\n",
      "+------------------+\n",
      "\n"
     ]
    }
   ],
   "source": [
    "from pyspark.sql.functions import col, countDistinct\n",
    "\n",
    "#Select only rows with movies or TvSeries\n",
    "df.where((df.type==\"movie\") | (df.type==\"tvSeries\")).select(countDistinct(\"id\")).show(5)"
   ]
  },
  {
   "cell_type": "code",
   "execution_count": 104,
   "id": "aeb6ad29-092a-4b2d-9433-e0976630793a",
   "metadata": {},
   "outputs": [
    {
     "name": "stdout",
     "output_type": "stream",
     "text": [
      "+---------+--------------------+-----+--------+-----------+-------+-----------+\n",
      "|       id|               title| type|numVotes|releaseYear|avg_rat|  one_genre|\n",
      "+---------+--------------------+-----+--------+-----------+-------+-----------+\n",
      "|tt0000009|          Miss Jerry|movie|     215|       1894|    5.4|    Romance|\n",
      "|tt0000147|The Corbett-Fitzs...|movie|     539|       1897|    5.2|Documentary|\n",
      "|tt0000574|The Story of the ...|movie|     941|       1906|    6.0|     Action|\n",
      "|tt0000591|    The Prodigal Son|movie|      28|       1907|    5.7|      Drama|\n",
      "|tt0000615|  Robbery Under Arms|movie|      27|       1907|    4.3|      Drama|\n",
      "|tt0000630|              Hamlet|movie|      30|       1908|    3.1|      Drama|\n",
      "|tt0000675|         Don Quijote|movie|      22|       1908|    4.2|      Drama|\n",
      "|tt0000679|The Fairylogue an...|movie|      78|       1908|    5.2|  Adventure|\n",
      "|tt0000886|Hamlet, Prince of...|movie|      40|       1910|    4.7|      Drama|\n",
      "|tt0000941|      Locura de amor|movie|      29|       1909|    4.6|      Drama|\n",
      "|tt0001028|          Salome Mad|movie|      22|       1909|    3.8|     Comedy|\n",
      "|tt0001049|      Gøngehøvdingen|movie|      19|       1909|    4.2|      Drama|\n",
      "|tt0001112|              Hamlet|movie|      49|       1910|    3.9|      Drama|\n",
      "|tt0001115|       Ansigttyven I|movie|      20|       1910|    4.3|      Crime|\n",
      "|tt0001175|             Camille|movie|      44|       1912|    5.3|      Drama|\n",
      "|tt0001184|Don Juan de Serra...|movie|      22|       1910|    3.8|  Adventure|\n",
      "|tt0001240|              Hamlet|movie|      22|       1911|    3.8|      Drama|\n",
      "|tt0001277|         Kapergasten|movie|      26|       1910|    4.3|      Drama|\n",
      "|tt0001285|   The Life of Moses|movie|      63|       1909|    5.5|  Biography|\n",
      "|tt0001338|      A Night in May|movie|      18|       1910|    5.2|      Drama|\n",
      "+---------+--------------------+-----+--------+-----------+-------+-----------+\n",
      "only showing top 20 rows\n",
      "\n"
     ]
    }
   ],
   "source": [
    "from pyspark.sql.functions import col, split\n",
    "#Remove rows with Null values for key columns\n",
    "df = df.filter(df.averageRating != 'NULL')\n",
    "\n",
    "df = df.filter(df.genres != 'NULL')\n",
    "\n",
    "df = df.filter(df.releaseYear != 'NULL')\n",
    "\n",
    "#Transform average rating into float\n",
    "df = df.withColumn(\"avg_rat\", col(\"averageRating\").cast(\"float\")).drop(\"averageRating\")\n",
    "\n",
    "#Clean genres, so that only the main genre is available per row\n",
    "df_t = df.withColumn(\"genre_t\", split(df.genres, ', ')).drop(\"genres\")\n",
    "\n",
    "df_1g = df_t.withColumn(\"one_genre\", col(\"genre_t\").getItem(0)).drop(\"genre_t\")\n",
    "\n",
    "#Display the table\n",
    "df_1g.show()\n",
    "              "
   ]
  },
  {
   "cell_type": "code",
   "execution_count": 105,
   "id": "e16cd016-bc1c-4b8d-a888-8dc3e00fdbe2",
   "metadata": {},
   "outputs": [
    {
     "name": "stdout",
     "output_type": "stream",
     "text": [
      "+----------+--------------------+------------+--------+-----------+-------+---------+----------+\n",
      "|        id|               title|        type|numVotes|releaseYear|avg_rat|one_genre|genre_rank|\n",
      "+----------+--------------------+------------+--------+-----------+-------+---------+----------+\n",
      "| tt7156934|   Independent Roads|       movie|      10|       2012|    9.9|Adventure|         1|\n",
      "| tt1053817|    Buried in Tucson|       movie|      15|       2007|    9.8|Adventure|         2|\n",
      "| tt8114896|               Parto|       movie|      85|       2010|    9.8|Adventure|         2|\n",
      "| tt1419921| Flying Over Everest|       movie|      12|       2004|    9.7|Adventure|         3|\n",
      "|tt24224080|Jendela Seribu Su...|       movie|      92|       2023|    9.7|Adventure|         3|\n",
      "|tt24228604|          OdBita Pot|    tvSeries|     874|       2022|    9.7|Adventure|         3|\n",
      "|tt33083593|        Vikaasaparva|       movie|     505|       2024|    9.7|Adventure|         3|\n",
      "| tt9824856|  Avalakki Pavalakki|       movie|      20|       2023|    9.7|Adventure|         3|\n",
      "|tt11378676|Bilbo and the Leg...|       movie|       5|       2022|    9.6|Adventure|         4|\n",
      "|tt13385026|Sehnsucht nach ei...|       movie|      17|       2021|    9.6|Adventure|         4|\n",
      "|tt15510976|A Filha Do Govern...|       movie|       7|       2016|    9.6|Adventure|         4|\n",
      "|tt21091528|Prince Oak Oakley...|       movie|      56|       2022|    9.6|Adventure|         4|\n",
      "|tt27262998|Drifting in the W...|       movie|      37|       2023|    9.6|Adventure|         4|\n",
      "| tt7472202|The Other End of ...|       movie|       9|       2018|    9.6|Adventure|         4|\n",
      "|tt12043078|     Illegal Freedom|    tvSeries|      44|       2016|    9.5|Adventure|         5|\n",
      "|tt13028852|Satu - Year of th...|       movie|      27|       2024|    9.5|Adventure|         5|\n",
      "|tt15073298|          Buscadores|tvMiniSeries|      43|       2020|    9.5|Adventure|         5|\n",
      "|tt16270180|Ships of the Nort...|    tvSeries|      21|       2020|    9.5|Adventure|         5|\n",
      "|tt16383720|  Minecraft Temporal|    tvSeries|      15|       2019|    9.5|Adventure|         5|\n",
      "|tt16491098|            OreSpawn|tvMiniSeries|      14|       2014|    9.5|Adventure|         5|\n",
      "+----------+--------------------+------------+--------+-----------+-------+---------+----------+\n",
      "only showing top 20 rows\n",
      "\n"
     ]
    }
   ],
   "source": [
    "from pyspark.sql import Window\n",
    "from pyspark.sql.functions import dense_rank, desc\n",
    "\n",
    "#Create windows to partition by genre and rank based the average rating\n",
    "window_gender=Window.partitionBy(\"one_genre\").orderBy(desc(\"avg_rat\"))\n",
    "\n",
    "df_1g = df_1g.withColumn(\"genre_rank\", dense_rank().over(window_gender))\n",
    "\n",
    "df_1g.show()"
   ]
  },
  {
   "cell_type": "code",
   "execution_count": 106,
   "id": "2686b2e0-0ac4-412e-9f22-2baa591680bb",
   "metadata": {},
   "outputs": [
    {
     "name": "stdout",
     "output_type": "stream",
     "text": [
      "+----------+--------------------+-----+--------+-----------+-------+-----------+----------+---------+\n",
      "|        id|               title| type|numVotes|releaseYear|avg_rat|  one_genre|genre_rank|year_rank|\n",
      "+----------+--------------------+-----+--------+-----------+-------+-----------+----------+---------+\n",
      "| tt0000147|The Corbett-Fitzs...|movie|     539|       1897|    5.2|Documentary|        49|        1|\n",
      "| tt0229676|Reproduction of t...|movie|      63|       1897|    4.4|Documentary|        57|        2|\n",
      "| tt0138774|Saída dos Operári...|movie|      10|       1898|    4.6|Documentary|        55|        1|\n",
      "| tt0235357|Dressing Paper Dolls|movie|      25|       1898|    3.6|Documentary|        65|        2|\n",
      "| tt0221040|Buck Dance, Ute I...|movie|      25|       1898|    3.4|Documentary|        67|        3|\n",
      "| tt0230366|Jeffries-Sharkey ...|movie|      78|       1899|    3.9|Documentary|        62|        1|\n",
      "| tt0230765|Sharkey-McCoy Fig...|movie|      34|       1899|    3.3|Documentary|        68|        2|\n",
      "| tt0352173|           Anna Held|movie|      22|       1901|    6.2|Documentary|        39|        1|\n",
      "| tt0231818|Jeffries and Ruhl...|movie|      40|       1901|    4.2|Documentary|        59|        2|\n",
      "| tt0127962|The Life and Pass...|movie|     722|       1903|    6.5|  Biography|        36|        1|\n",
      "|tt11166772|S. Lubin's Passio...|movie|       9|       1903|    5.0|      Drama|        51|        2|\n",
      "| tt0420843|Prinsesse Marie t...|movie|      15|       1903|    4.0|Documentary|        61|        3|\n",
      "| tt0178983|  Westinghouse Works|movie|     362|       1904|    5.3|Documentary|        48|        1|\n",
      "| tt0284043|    Dingjun Mountain|movie|      50|       1905|    6.7|      Drama|        34|        1|\n",
      "|tt14006802|     Images de Chine|movie|      28|       1905|    6.3|Documentary|        38|        2|\n",
      "| tt0388231|   La malia dell'oro|movie|      32|       1905|    4.0|    Fantasy|        56|        3|\n",
      "| tt1325665|             Valsons|movie|      28|       1905|    3.5|      Music|        65|        4|\n",
      "| tt0000574|The Story of the ...|movie|     941|       1906|    6.0|     Action|        40|        1|\n",
      "| tt0184672|       Lika mot lika|movie|      28|       1906|    3.5|     Comedy|        66|        2|\n",
      "| tt0351055|Highlights from T...|movie|      25|       1906|    3.3|    Musical|        65|        3|\n",
      "+----------+--------------------+-----+--------+-----------+-------+-----------+----------+---------+\n",
      "only showing top 20 rows\n",
      "\n"
     ]
    }
   ],
   "source": [
    "#Create windows and rank by year\n",
    "\n",
    "window_year=Window.partitionBy(\"releaseYear\").orderBy(desc(\"avg_rat\"))\n",
    "\n",
    "df_1g = df_1g.withColumn(\"year_rank\", dense_rank().over(window_year))\n",
    "\n",
    "df_1g.show()\n",
    "\n"
   ]
  },
  {
   "cell_type": "code",
   "execution_count": 107,
   "id": "47805f7b-cc7f-4b3b-b0af-b3da4248ede8",
   "metadata": {},
   "outputs": [
    {
     "name": "stdout",
     "output_type": "stream",
     "text": [
      "+---------+--------------------+-----+--------+-----------+-------+---------+----------+---------+---------------+\n",
      "|       id|               title| type|numVotes|releaseYear|avg_rat|one_genre|genre_rank|year_rank|year_genre_rank|\n",
      "+---------+--------------------+-----+--------+-----------+-------+---------+----------+---------+---------------+\n",
      "|tt0000574|The Story of the ...|movie|     941|       1906|    6.0|   Action|        40|        1|              1|\n",
      "|tt0877604|         Chûshingura|movie|      24|       1910|    5.5|   Action|        45|        5|              1|\n",
      "|tt0299498|Attack on the Gol...|movie|      25|       1911|    4.1|   Action|        59|       18|              1|\n",
      "|tt0006206|        Les Vampires|movie|    5574|       1915|    7.3|   Action|        27|       11|              1|\n",
      "|tt0005905|       The Plunderer|movie|      31|       1915|    6.7|   Action|        33|       17|              2|\n",
      "|tt0356838|     The Loyal Rebel|movie|      19|       1915|    6.7|   Action|        33|       17|              2|\n",
      "|tt0182538|    Within Our Gates|movie|      11|       1915|    6.4|   Action|        36|       20|              3|\n",
      "|tt0319445|      Georgia Pearce|movie|      25|       1915|    6.3|   Action|        37|       21|              4|\n",
      "|tt0005808|The New Exploits ...|movie|      36|       1915|    5.6|   Action|        44|       28|              5|\n",
      "|tt0005056|    Captain Courtesy|movie|      19|       1915|    5.4|   Action|        46|       30|              6|\n",
      "|tt0005700|  A Man and His Mate|movie|      39|       1915|    5.4|   Action|        46|       30|              6|\n",
      "|tt0005939|           The Quest|movie|      34|       1915|    5.3|   Action|        47|       31|              7|\n",
      "|tt0005553|     The Iron Strain|movie|      27|       1915|    4.5|   Action|        55|       38|              8|\n",
      "|tt0006144|       A Texas Steer|movie|      37|       1915|    3.1|   Action|        69|       47|              9|\n",
      "|tt0006213|The Ventures of M...|movie|      32|       1915|    2.6|   Action|        74|       50|             10|\n",
      "|tt0007303|  The Scarlet Runner|movie|      22|       1916|    8.0|   Action|        20|        4|              1|\n",
      "|tt0006409|    Beatrice Fairfax|movie|      79|       1916|    7.2|   Action|        28|       12|              2|\n",
      "|tt2122384|The Vampires: The...|movie|     251|       1916|    7.1|   Action|        29|       13|              3|\n",
      "|tt2122389|The Vampires: The...|movie|     257|       1916|    7.1|   Action|        29|       13|              3|\n",
      "|tt2122391|The Vampires: The...|movie|     247|       1916|    7.1|   Action|        29|       13|              3|\n",
      "+---------+--------------------+-----+--------+-----------+-------+---------+----------+---------+---------------+\n",
      "only showing top 20 rows\n",
      "\n"
     ]
    }
   ],
   "source": [
    "#Rank by both genre and year\n",
    "\n",
    "window=Window.partitionBy(\"one_genre\", \"releaseYear\").orderBy(desc(\"avg_rat\"))\n",
    "\n",
    "df_1g = df_1g.withColumn(\"year_genre_rank\", dense_rank().over(window))\n",
    "\n",
    "df_1g.show()"
   ]
  },
  {
   "cell_type": "code",
   "execution_count": null,
   "id": "e2d228b3-e4e7-4623-90ea-4d92e74ec9cd",
   "metadata": {},
   "outputs": [],
   "source": []
  }
 ],
 "metadata": {
  "kernelspec": {
   "display_name": "Python 3 (ipykernel)",
   "language": "python",
   "name": "python3"
  },
  "language_info": {
   "codemirror_mode": {
    "name": "ipython",
    "version": 3
   },
   "file_extension": ".py",
   "mimetype": "text/x-python",
   "name": "python",
   "nbconvert_exporter": "python",
   "pygments_lexer": "ipython3",
   "version": "3.11.6"
  }
 },
 "nbformat": 4,
 "nbformat_minor": 5
}
