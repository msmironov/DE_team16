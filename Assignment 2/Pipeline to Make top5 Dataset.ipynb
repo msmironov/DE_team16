{
 "cells": [
  {
   "cell_type": "code",
   "execution_count": 101,
   "id": "8ceaf464-543c-4c2d-a733-817621aadbd5",
   "metadata": {},
   "outputs": [
    {
     "name": "stdout",
     "output_type": "stream",
     "text": [
      "root\n",
      " |-- id: string (nullable = true)\n",
      " |-- title: string (nullable = true)\n",
      " |-- type: string (nullable = true)\n",
      " |-- genres: string (nullable = true)\n",
      " |-- averageRating: string (nullable = true)\n",
      " |-- numVotes: string (nullable = true)\n",
      " |-- releaseYear: string (nullable = true)\n",
      "\n"
     ]
    }
   ],
   "source": [
    "from pyspark.sql import SparkSession\n",
    "from pyspark import SparkConf\n",
    "\n",
    "sparkConf = SparkConf()\n",
    "sparkConf.setMaster(\"spark://spark-master:7077\")\n",
    "sparkConf.setAppName(\"Assignment 2 Top5 Dataset\")\n",
    "sparkConf.set(\"spark.driver.memory\", \"2g\")\n",
    "sparkConf.set(\"spark.executor.cores\", \"1\")\n",
    "sparkConf.set(\"spark.driver.cores\", \"1\")\n",
    "# create the spark session, which is the entry point to Spark SQL engine.\n",
    "spark = SparkSession.builder.config(conf=sparkConf).getOrCreate()\n",
    "\n",
    "# Setup hadoop fs configuration for schema gs://\n",
    "conf = spark.sparkContext._jsc.hadoopConfiguration()\n",
    "conf.set(\"fs.gs.impl\", \"com.google.cloud.hadoop.fs.gcs.GoogleHadoopFileSystem\")\n",
    "conf.set(\"fs.AbstractFileSystem.gs.impl\", \"com.google.cloud.hadoop.fs.gcs.GoogleHadoopFS\")\n",
    "\n",
    "#  Google Storage File Path\n",
    "gsc_file_path = 'gs://de_2024_574440/data/data.csv'  \n",
    "# Create data frame\n",
    "df = spark.read.format(\"csv\").option(\"header\", \"true\") \\\n",
    "       .load(gsc_file_path)\n",
    "\n",
    "df.printSchema()\n",
    "\n"
   ]
  },
  {
   "cell_type": "code",
   "execution_count": null,
   "id": "a05f6391-2167-4959-9a83-d3050d8c13bf",
   "metadata": {},
   "outputs": [],
   "source": [
    "from pyspark.sql.functions import col, countDistinct\n",
    "\n",
    "#Select only rows with movies or TvSeries\n",
    "df = df.where((df.type==\"movie\") | (df.type==\"tvSeries\"))\n",
    "\n",
    "#Filter on 2024 only\n",
    "df = df.filter(df.releaseYear == 2024)"
   ]
  },
  {
   "cell_type": "code",
   "execution_count": 104,
   "id": "aeb6ad29-092a-4b2d-9433-e0976630793a",
   "metadata": {},
   "outputs": [
    {
     "name": "stdout",
     "output_type": "stream",
     "text": [
      "+---------+--------------------+-----+--------+-----------+-------+-----------+\n",
      "|       id|               title| type|numVotes|releaseYear|avg_rat|  one_genre|\n",
      "+---------+--------------------+-----+--------+-----------+-------+-----------+\n",
      "|tt0000009|          Miss Jerry|movie|     215|       1894|    5.4|    Romance|\n",
      "|tt0000147|The Corbett-Fitzs...|movie|     539|       1897|    5.2|Documentary|\n",
      "|tt0000574|The Story of the ...|movie|     941|       1906|    6.0|     Action|\n",
      "|tt0000591|    The Prodigal Son|movie|      28|       1907|    5.7|      Drama|\n",
      "|tt0000615|  Robbery Under Arms|movie|      27|       1907|    4.3|      Drama|\n",
      "|tt0000630|              Hamlet|movie|      30|       1908|    3.1|      Drama|\n",
      "|tt0000675|         Don Quijote|movie|      22|       1908|    4.2|      Drama|\n",
      "|tt0000679|The Fairylogue an...|movie|      78|       1908|    5.2|  Adventure|\n",
      "|tt0000886|Hamlet, Prince of...|movie|      40|       1910|    4.7|      Drama|\n",
      "|tt0000941|      Locura de amor|movie|      29|       1909|    4.6|      Drama|\n",
      "|tt0001028|          Salome Mad|movie|      22|       1909|    3.8|     Comedy|\n",
      "|tt0001049|      Gøngehøvdingen|movie|      19|       1909|    4.2|      Drama|\n",
      "|tt0001112|              Hamlet|movie|      49|       1910|    3.9|      Drama|\n",
      "|tt0001115|       Ansigttyven I|movie|      20|       1910|    4.3|      Crime|\n",
      "|tt0001175|             Camille|movie|      44|       1912|    5.3|      Drama|\n",
      "|tt0001184|Don Juan de Serra...|movie|      22|       1910|    3.8|  Adventure|\n",
      "|tt0001240|              Hamlet|movie|      22|       1911|    3.8|      Drama|\n",
      "|tt0001277|         Kapergasten|movie|      26|       1910|    4.3|      Drama|\n",
      "|tt0001285|   The Life of Moses|movie|      63|       1909|    5.5|  Biography|\n",
      "|tt0001338|      A Night in May|movie|      18|       1910|    5.2|      Drama|\n",
      "+---------+--------------------+-----+--------+-----------+-------+-----------+\n",
      "only showing top 20 rows\n",
      "\n"
     ]
    }
   ],
   "source": [
    "from pyspark.sql.functions import split\n",
    "\n",
    "#remove rows with null values for key columns\n",
    "df = df.filter(df.averageRating != 'NULL') \\\n",
    "     .filter(df.genres != 'NULL') \\\n",
    "     .filter(df.releaseYear != 'NULL')\n",
    "\n",
    "#transform strings into float and int\n",
    "df = df.withColumn(\"averageRating\", col(\"averageRating\").cast(\"float\")) \\\n",
    "    .withColumn(\"releaseYear\", col(\"releaseYear\").cast(\"integer\")) \\\n",
    "    .withColumn(\"numVotes\", col(\"numVotes\").cast(\"integer\"))\n",
    "\n",
    "\n",
    "#Clean genres, so that only the main genre is available per row\n",
    "df = df.withColumn(\"genre_t\", split(df.genres, ', ')).drop(\"genres\") \\\n",
    "     .withColumn(\"one_genre\", col(\"genre_t\").getItem(0)).drop(\"genre_t\")\n",
    "\n",
    "#Display the table\n",
    "df.show()\n",
    "              "
   ]
  },
  {
   "cell_type": "code",
   "execution_count": 105,
   "id": "e16cd016-bc1c-4b8d-a888-8dc3e00fdbe2",
   "metadata": {},
   "outputs": [
    {
     "name": "stdout",
     "output_type": "stream",
     "text": [
      "+----------+--------------------+------------+--------+-----------+-------+---------+----------+\n",
      "|        id|               title|        type|numVotes|releaseYear|avg_rat|one_genre|genre_rank|\n",
      "+----------+--------------------+------------+--------+-----------+-------+---------+----------+\n",
      "| tt7156934|   Independent Roads|       movie|      10|       2012|    9.9|Adventure|         1|\n",
      "| tt1053817|    Buried in Tucson|       movie|      15|       2007|    9.8|Adventure|         2|\n",
      "| tt8114896|               Parto|       movie|      85|       2010|    9.8|Adventure|         2|\n",
      "| tt1419921| Flying Over Everest|       movie|      12|       2004|    9.7|Adventure|         3|\n",
      "|tt24224080|Jendela Seribu Su...|       movie|      92|       2023|    9.7|Adventure|         3|\n",
      "|tt24228604|          OdBita Pot|    tvSeries|     874|       2022|    9.7|Adventure|         3|\n",
      "|tt33083593|        Vikaasaparva|       movie|     505|       2024|    9.7|Adventure|         3|\n",
      "| tt9824856|  Avalakki Pavalakki|       movie|      20|       2023|    9.7|Adventure|         3|\n",
      "|tt11378676|Bilbo and the Leg...|       movie|       5|       2022|    9.6|Adventure|         4|\n",
      "|tt13385026|Sehnsucht nach ei...|       movie|      17|       2021|    9.6|Adventure|         4|\n",
      "|tt15510976|A Filha Do Govern...|       movie|       7|       2016|    9.6|Adventure|         4|\n",
      "|tt21091528|Prince Oak Oakley...|       movie|      56|       2022|    9.6|Adventure|         4|\n",
      "|tt27262998|Drifting in the W...|       movie|      37|       2023|    9.6|Adventure|         4|\n",
      "| tt7472202|The Other End of ...|       movie|       9|       2018|    9.6|Adventure|         4|\n",
      "|tt12043078|     Illegal Freedom|    tvSeries|      44|       2016|    9.5|Adventure|         5|\n",
      "|tt13028852|Satu - Year of th...|       movie|      27|       2024|    9.5|Adventure|         5|\n",
      "|tt15073298|          Buscadores|tvMiniSeries|      43|       2020|    9.5|Adventure|         5|\n",
      "|tt16270180|Ships of the Nort...|    tvSeries|      21|       2020|    9.5|Adventure|         5|\n",
      "|tt16383720|  Minecraft Temporal|    tvSeries|      15|       2019|    9.5|Adventure|         5|\n",
      "|tt16491098|            OreSpawn|tvMiniSeries|      14|       2014|    9.5|Adventure|         5|\n",
      "+----------+--------------------+------------+--------+-----------+-------+---------+----------+\n",
      "only showing top 20 rows\n",
      "\n"
     ]
    }
   ],
   "source": [
    "from pyspark.sql import Window\n",
    "from pyspark.sql.functions import dense_rank, desc\n",
    "\n",
    "#Create windows and rank by genre\n",
    "\n",
    "window_genre=Window.partitionBy(\"one_genre\").orderBy(desc(\"averageRating\"))\n",
    "\n",
    "df = df.withColumn(\"genre_rank\", dense_rank().over(window_genre))\n",
    "\n",
    "#Select only top 5 per genre per year\n",
    "\n",
    "df = df.filter(df.year_genre_rank < 6)\n",
    "\n",
    "df.show()\n",
    "\n"
   ]
  },
  {
   "cell_type": "code",
   "execution_count": null,
   "id": "e2d228b3-e4e7-4623-90ea-4d92e74ec9cd",
   "metadata": {},
   "outputs": [],
   "source": [
    "#Save to the bucket\n",
    "\n",
    "df.write.format(\"csv\").option(\"header\", True).save(\"gs://de_2024_574440/data/data_genre24_top5.csv\")"
   ]
  }
 ],
 "metadata": {
  "kernelspec": {
   "display_name": "Python 3 (ipykernel)",
   "language": "python",
   "name": "python3"
  },
  "language_info": {
   "codemirror_mode": {
    "name": "ipython",
    "version": 3
   },
   "file_extension": ".py",
   "mimetype": "text/x-python",
   "name": "python",
   "nbconvert_exporter": "python",
   "pygments_lexer": "ipython3",
   "version": "3.11.6"
  }
 },
 "nbformat": 4,
 "nbformat_minor": 5
}
